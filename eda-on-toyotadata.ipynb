{
 "cells": [
  {
   "cell_type": "code",
   "execution_count": 1,
   "id": "korean-contributor",
   "metadata": {
    "_cell_guid": "b1076dfc-b9ad-4769-8c92-a6c4dae69d19",
    "_uuid": "8f2839f25d086af736a60e9eeb907d3b93b6e0e5",
    "execution": {
     "iopub.execute_input": "2021-06-25T18:01:04.750491Z",
     "iopub.status.busy": "2021-06-25T18:01:04.747297Z",
     "iopub.status.idle": "2021-06-25T18:01:04.767000Z",
     "shell.execute_reply": "2021-06-25T18:01:04.766355Z",
     "shell.execute_reply.started": "2021-06-25T17:57:20.328860Z"
    },
    "papermill": {
     "duration": 0.050847,
     "end_time": "2021-06-25T18:01:04.767165",
     "exception": false,
     "start_time": "2021-06-25T18:01:04.716318",
     "status": "completed"
    },
    "tags": []
   },
   "outputs": [
    {
     "name": "stdout",
     "output_type": "stream",
     "text": [
      "/kaggle/input/toyotacorollacsv/ToyotaCorolla.csv\n"
     ]
    }
   ],
   "source": [
    "# This Python 3 environment comes with many helpful analytics libraries installed\n",
    "# It is defined by the kaggle/python Docker image: https://github.com/kaggle/docker-python\n",
    "# For example, here's several helpful packages to load\n",
    "\n",
    "import numpy as np # linear algebra\n",
    "import pandas as pd # data processing, CSV file I/O (e.g. pd.read_csv)\n",
    "\n",
    "# Input data files are available in the read-only \"../input/\" directory\n",
    "# For example, running this (by clicking run or pressing Shift+Enter) will list all files under the input directory\n",
    "\n",
    "import os\n",
    "for dirname, _, filenames in os.walk('/kaggle/input'):\n",
    "    for filename in filenames:\n",
    "        print(os.path.join(dirname, filename))\n",
    "\n",
    "# You can write up to 20GB to the current directory (/kaggle/working/) that gets preserved as output when you create a version using \"Save & Run All\" \n",
    "# You can also write temporary files to /kaggle/temp/, but they won't be saved outside of the current session"
   ]
  },
  {
   "cell_type": "markdown",
   "id": "backed-feature",
   "metadata": {
    "papermill": {
     "duration": 0.020601,
     "end_time": "2021-06-25T18:01:04.809323",
     "exception": false,
     "start_time": "2021-06-25T18:01:04.788722",
     "status": "completed"
    },
    "tags": []
   },
   "source": [
    "# Here we learn EDA of The Data and Data Visulization of Data\n",
    "using pandas we read use data and make useful for use to Visulie and understand the data "
   ]
  },
  {
   "cell_type": "code",
   "execution_count": 2,
   "id": "residential-denver",
   "metadata": {
    "execution": {
     "iopub.execute_input": "2021-06-25T18:01:04.857129Z",
     "iopub.status.busy": "2021-06-25T18:01:04.856488Z",
     "iopub.status.idle": "2021-06-25T18:01:04.891767Z",
     "shell.execute_reply": "2021-06-25T18:01:04.890994Z",
     "shell.execute_reply.started": "2021-06-25T17:57:20.349641Z"
    },
    "papermill": {
     "duration": 0.061623,
     "end_time": "2021-06-25T18:01:04.891919",
     "exception": false,
     "start_time": "2021-06-25T18:01:04.830296",
     "status": "completed"
    },
    "tags": []
   },
   "outputs": [],
   "source": [
    "car_data= pd.read_csv(\"../input/toyotacorollacsv/ToyotaCorolla.csv\",index_col=0)"
   ]
  },
  {
   "cell_type": "markdown",
   "id": "little-triumph",
   "metadata": {
    "papermill": {
     "duration": 0.026206,
     "end_time": "2021-06-25T18:01:04.939301",
     "exception": false,
     "start_time": "2021-06-25T18:01:04.913095",
     "status": "completed"
    },
    "tags": []
   },
   "source": [
    "Now we done with read the data lets copy the data into Deep Data \n"
   ]
  },
  {
   "cell_type": "code",
   "execution_count": 3,
   "id": "following-fluid",
   "metadata": {
    "execution": {
     "iopub.execute_input": "2021-06-25T18:01:04.995865Z",
     "iopub.status.busy": "2021-06-25T18:01:04.994878Z",
     "iopub.status.idle": "2021-06-25T18:01:04.997599Z",
     "shell.execute_reply": "2021-06-25T18:01:04.998223Z",
     "shell.execute_reply.started": "2021-06-25T17:57:20.394770Z"
    },
    "papermill": {
     "duration": 0.036844,
     "end_time": "2021-06-25T18:01:04.998467",
     "exception": false,
     "start_time": "2021-06-25T18:01:04.961623",
     "status": "completed"
    },
    "tags": []
   },
   "outputs": [],
   "source": [
    "cars_data=car_data.copy(deep=True)"
   ]
  },
  {
   "cell_type": "code",
   "execution_count": 4,
   "id": "disturbed-french",
   "metadata": {
    "execution": {
     "iopub.execute_input": "2021-06-25T18:01:05.052565Z",
     "iopub.status.busy": "2021-06-25T18:01:05.051608Z",
     "iopub.status.idle": "2021-06-25T18:01:05.060088Z",
     "shell.execute_reply": "2021-06-25T18:01:05.060692Z",
     "shell.execute_reply.started": "2021-06-25T17:57:20.401300Z"
    },
    "papermill": {
     "duration": 0.038488,
     "end_time": "2021-06-25T18:01:05.060860",
     "exception": false,
     "start_time": "2021-06-25T18:01:05.022372",
     "status": "completed"
    },
    "tags": []
   },
   "outputs": [
    {
     "data": {
      "text/plain": [
       "Int64Index([   1,    2,    3,    4,    5,    6,    7,    8,    9,   10,\n",
       "            ...\n",
       "            1433, 1434, 1435, 1436, 1437, 1438, 1439, 1440, 1441, 1442],\n",
       "           dtype='int64', name='Id', length=1436)"
      ]
     },
     "execution_count": 4,
     "metadata": {},
     "output_type": "execute_result"
    }
   ],
   "source": [
    "cars_data.index           #we get no.of rows using index"
   ]
  },
  {
   "cell_type": "code",
   "execution_count": 5,
   "id": "abroad-excellence",
   "metadata": {
    "execution": {
     "iopub.execute_input": "2021-06-25T18:01:05.106767Z",
     "iopub.status.busy": "2021-06-25T18:01:05.105802Z",
     "iopub.status.idle": "2021-06-25T18:01:05.112966Z",
     "shell.execute_reply": "2021-06-25T18:01:05.112343Z",
     "shell.execute_reply.started": "2021-06-25T17:57:20.422193Z"
    },
    "papermill": {
     "duration": 0.031191,
     "end_time": "2021-06-25T18:01:05.113100",
     "exception": false,
     "start_time": "2021-06-25T18:01:05.081909",
     "status": "completed"
    },
    "tags": []
   },
   "outputs": [
    {
     "data": {
      "text/plain": [
       "Index(['Model', 'Price', 'Age_08_04', 'Mfg_Month', 'Mfg_Year', 'KM',\n",
       "       'Fuel_Type', 'HP', 'Met_Color', 'Automatic', 'cc', 'Doors', 'Cylinders',\n",
       "       'Gears', 'Quarterly_Tax', 'Weight', 'Mfr_Guarantee', 'BOVAG_Guarantee',\n",
       "       'Guarantee_Period', 'ABS', 'Airbag_1', 'Airbag_2', 'Airco',\n",
       "       'Automatic_airco', 'Boardcomputer', 'CD_Player', 'Central_Lock',\n",
       "       'Powered_Windows', 'Power_Steering', 'Radio', 'Mistlamps',\n",
       "       'Sport_Model', 'Backseat_Divider', 'Metallic_Rim', 'Radio_cassette',\n",
       "       'Tow_Bar'],\n",
       "      dtype='object')"
      ]
     },
     "execution_count": 5,
     "metadata": {},
     "output_type": "execute_result"
    }
   ],
   "source": [
    "cars_data.columns         #Name of the colums we have "
   ]
  },
  {
   "cell_type": "code",
   "execution_count": 6,
   "id": "occupied-export",
   "metadata": {
    "execution": {
     "iopub.execute_input": "2021-06-25T18:01:05.161105Z",
     "iopub.status.busy": "2021-06-25T18:01:05.160435Z",
     "iopub.status.idle": "2021-06-25T18:01:05.163512Z",
     "shell.execute_reply": "2021-06-25T18:01:05.164005Z",
     "shell.execute_reply.started": "2021-06-25T17:57:20.440015Z"
    },
    "papermill": {
     "duration": 0.02962,
     "end_time": "2021-06-25T18:01:05.164191",
     "exception": false,
     "start_time": "2021-06-25T18:01:05.134571",
     "status": "completed"
    },
    "tags": []
   },
   "outputs": [
    {
     "data": {
      "text/plain": [
       "(1436, 36)"
      ]
     },
     "execution_count": 6,
     "metadata": {},
     "output_type": "execute_result"
    }
   ],
   "source": [
    "cars_data.shape # we have total 1436 rows and 36 colums"
   ]
  },
  {
   "cell_type": "code",
   "execution_count": 7,
   "id": "honest-indonesia",
   "metadata": {
    "execution": {
     "iopub.execute_input": "2021-06-25T18:01:05.211499Z",
     "iopub.status.busy": "2021-06-25T18:01:05.210867Z",
     "iopub.status.idle": "2021-06-25T18:01:05.216884Z",
     "shell.execute_reply": "2021-06-25T18:01:05.217525Z",
     "shell.execute_reply.started": "2021-06-25T17:57:20.458410Z"
    },
    "papermill": {
     "duration": 0.031445,
     "end_time": "2021-06-25T18:01:05.217719",
     "exception": false,
     "start_time": "2021-06-25T18:01:05.186274",
     "status": "completed"
    },
    "tags": []
   },
   "outputs": [
    {
     "data": {
      "text/plain": [
       "51696"
      ]
     },
     "execution_count": 7,
     "metadata": {},
     "output_type": "execute_result"
    }
   ],
   "source": [
    "cars_data.size #total size of data sets"
   ]
  },
  {
   "cell_type": "code",
   "execution_count": 8,
   "id": "amino-appraisal",
   "metadata": {
    "execution": {
     "iopub.execute_input": "2021-06-25T18:01:05.276164Z",
     "iopub.status.busy": "2021-06-25T18:01:05.275487Z",
     "iopub.status.idle": "2021-06-25T18:01:05.287898Z",
     "shell.execute_reply": "2021-06-25T18:01:05.288563Z",
     "shell.execute_reply.started": "2021-06-25T17:57:20.473984Z"
    },
    "papermill": {
     "duration": 0.043411,
     "end_time": "2021-06-25T18:01:05.288748",
     "exception": false,
     "start_time": "2021-06-25T18:01:05.245337",
     "status": "completed"
    },
    "tags": []
   },
   "outputs": [
    {
     "data": {
      "text/plain": [
       "Index               11488\n",
       "Model               11488\n",
       "Price               11488\n",
       "Age_08_04           11488\n",
       "Mfg_Month           11488\n",
       "Mfg_Year            11488\n",
       "KM                  11488\n",
       "Fuel_Type           11488\n",
       "HP                  11488\n",
       "Met_Color           11488\n",
       "Automatic           11488\n",
       "cc                  11488\n",
       "Doors               11488\n",
       "Cylinders           11488\n",
       "Gears               11488\n",
       "Quarterly_Tax       11488\n",
       "Weight              11488\n",
       "Mfr_Guarantee       11488\n",
       "BOVAG_Guarantee     11488\n",
       "Guarantee_Period    11488\n",
       "ABS                 11488\n",
       "Airbag_1            11488\n",
       "Airbag_2            11488\n",
       "Airco               11488\n",
       "Automatic_airco     11488\n",
       "Boardcomputer       11488\n",
       "CD_Player           11488\n",
       "Central_Lock        11488\n",
       "Powered_Windows     11488\n",
       "Power_Steering      11488\n",
       "Radio               11488\n",
       "Mistlamps           11488\n",
       "Sport_Model         11488\n",
       "Backseat_Divider    11488\n",
       "Metallic_Rim        11488\n",
       "Radio_cassette      11488\n",
       "Tow_Bar             11488\n",
       "dtype: int64"
      ]
     },
     "execution_count": 8,
     "metadata": {},
     "output_type": "execute_result"
    }
   ],
   "source": [
    "cars_data.memory_usage()"
   ]
  },
  {
   "cell_type": "code",
   "execution_count": 9,
   "id": "indie-louisville",
   "metadata": {
    "execution": {
     "iopub.execute_input": "2021-06-25T18:01:05.347888Z",
     "iopub.status.busy": "2021-06-25T18:01:05.347152Z",
     "iopub.status.idle": "2021-06-25T18:01:05.378676Z",
     "shell.execute_reply": "2021-06-25T18:01:05.379216Z",
     "shell.execute_reply.started": "2021-06-25T17:57:20.498149Z"
    },
    "papermill": {
     "duration": 0.062835,
     "end_time": "2021-06-25T18:01:05.379424",
     "exception": false,
     "start_time": "2021-06-25T18:01:05.316589",
     "status": "completed"
    },
    "tags": []
   },
   "outputs": [
    {
     "data": {
      "text/html": [
       "<div>\n",
       "<style scoped>\n",
       "    .dataframe tbody tr th:only-of-type {\n",
       "        vertical-align: middle;\n",
       "    }\n",
       "\n",
       "    .dataframe tbody tr th {\n",
       "        vertical-align: top;\n",
       "    }\n",
       "\n",
       "    .dataframe thead th {\n",
       "        text-align: right;\n",
       "    }\n",
       "</style>\n",
       "<table border=\"1\" class=\"dataframe\">\n",
       "  <thead>\n",
       "    <tr style=\"text-align: right;\">\n",
       "      <th></th>\n",
       "      <th>Model</th>\n",
       "      <th>Price</th>\n",
       "      <th>Age_08_04</th>\n",
       "      <th>Mfg_Month</th>\n",
       "      <th>Mfg_Year</th>\n",
       "      <th>KM</th>\n",
       "      <th>Fuel_Type</th>\n",
       "      <th>HP</th>\n",
       "      <th>Met_Color</th>\n",
       "      <th>Automatic</th>\n",
       "      <th>...</th>\n",
       "      <th>Central_Lock</th>\n",
       "      <th>Powered_Windows</th>\n",
       "      <th>Power_Steering</th>\n",
       "      <th>Radio</th>\n",
       "      <th>Mistlamps</th>\n",
       "      <th>Sport_Model</th>\n",
       "      <th>Backseat_Divider</th>\n",
       "      <th>Metallic_Rim</th>\n",
       "      <th>Radio_cassette</th>\n",
       "      <th>Tow_Bar</th>\n",
       "    </tr>\n",
       "    <tr>\n",
       "      <th>Id</th>\n",
       "      <th></th>\n",
       "      <th></th>\n",
       "      <th></th>\n",
       "      <th></th>\n",
       "      <th></th>\n",
       "      <th></th>\n",
       "      <th></th>\n",
       "      <th></th>\n",
       "      <th></th>\n",
       "      <th></th>\n",
       "      <th></th>\n",
       "      <th></th>\n",
       "      <th></th>\n",
       "      <th></th>\n",
       "      <th></th>\n",
       "      <th></th>\n",
       "      <th></th>\n",
       "      <th></th>\n",
       "      <th></th>\n",
       "      <th></th>\n",
       "      <th></th>\n",
       "    </tr>\n",
       "  </thead>\n",
       "  <tbody>\n",
       "    <tr>\n",
       "      <th>1</th>\n",
       "      <td>TOYOTA Corolla 2.0 D4D HATCHB TERRA 2/3-Doors</td>\n",
       "      <td>13500</td>\n",
       "      <td>23</td>\n",
       "      <td>10</td>\n",
       "      <td>2002</td>\n",
       "      <td>46986</td>\n",
       "      <td>Diesel</td>\n",
       "      <td>90</td>\n",
       "      <td>1</td>\n",
       "      <td>0</td>\n",
       "      <td>...</td>\n",
       "      <td>1</td>\n",
       "      <td>1</td>\n",
       "      <td>1</td>\n",
       "      <td>0</td>\n",
       "      <td>0</td>\n",
       "      <td>0</td>\n",
       "      <td>1</td>\n",
       "      <td>0</td>\n",
       "      <td>0</td>\n",
       "      <td>0</td>\n",
       "    </tr>\n",
       "    <tr>\n",
       "      <th>2</th>\n",
       "      <td>TOYOTA Corolla 2.0 D4D HATCHB TERRA 2/3-Doors</td>\n",
       "      <td>13750</td>\n",
       "      <td>23</td>\n",
       "      <td>10</td>\n",
       "      <td>2002</td>\n",
       "      <td>72937</td>\n",
       "      <td>Diesel</td>\n",
       "      <td>90</td>\n",
       "      <td>1</td>\n",
       "      <td>0</td>\n",
       "      <td>...</td>\n",
       "      <td>1</td>\n",
       "      <td>0</td>\n",
       "      <td>1</td>\n",
       "      <td>0</td>\n",
       "      <td>0</td>\n",
       "      <td>0</td>\n",
       "      <td>1</td>\n",
       "      <td>0</td>\n",
       "      <td>0</td>\n",
       "      <td>0</td>\n",
       "    </tr>\n",
       "    <tr>\n",
       "      <th>3</th>\n",
       "      <td>?TOYOTA Corolla 2.0 D4D HATCHB TERRA 2/3-Doors</td>\n",
       "      <td>13950</td>\n",
       "      <td>24</td>\n",
       "      <td>9</td>\n",
       "      <td>2002</td>\n",
       "      <td>41711</td>\n",
       "      <td>Diesel</td>\n",
       "      <td>90</td>\n",
       "      <td>1</td>\n",
       "      <td>0</td>\n",
       "      <td>...</td>\n",
       "      <td>0</td>\n",
       "      <td>0</td>\n",
       "      <td>1</td>\n",
       "      <td>0</td>\n",
       "      <td>0</td>\n",
       "      <td>0</td>\n",
       "      <td>1</td>\n",
       "      <td>0</td>\n",
       "      <td>0</td>\n",
       "      <td>0</td>\n",
       "    </tr>\n",
       "    <tr>\n",
       "      <th>4</th>\n",
       "      <td>TOYOTA Corolla 2.0 D4D HATCHB TERRA 2/3-Doors</td>\n",
       "      <td>14950</td>\n",
       "      <td>26</td>\n",
       "      <td>7</td>\n",
       "      <td>2002</td>\n",
       "      <td>48000</td>\n",
       "      <td>Diesel</td>\n",
       "      <td>90</td>\n",
       "      <td>0</td>\n",
       "      <td>0</td>\n",
       "      <td>...</td>\n",
       "      <td>0</td>\n",
       "      <td>0</td>\n",
       "      <td>1</td>\n",
       "      <td>0</td>\n",
       "      <td>0</td>\n",
       "      <td>0</td>\n",
       "      <td>1</td>\n",
       "      <td>0</td>\n",
       "      <td>0</td>\n",
       "      <td>0</td>\n",
       "    </tr>\n",
       "    <tr>\n",
       "      <th>5</th>\n",
       "      <td>TOYOTA Corolla 2.0 D4D HATCHB SOL 2/3-Doors</td>\n",
       "      <td>13750</td>\n",
       "      <td>30</td>\n",
       "      <td>3</td>\n",
       "      <td>2002</td>\n",
       "      <td>38500</td>\n",
       "      <td>Diesel</td>\n",
       "      <td>90</td>\n",
       "      <td>0</td>\n",
       "      <td>0</td>\n",
       "      <td>...</td>\n",
       "      <td>1</td>\n",
       "      <td>1</td>\n",
       "      <td>1</td>\n",
       "      <td>0</td>\n",
       "      <td>1</td>\n",
       "      <td>0</td>\n",
       "      <td>1</td>\n",
       "      <td>0</td>\n",
       "      <td>0</td>\n",
       "      <td>0</td>\n",
       "    </tr>\n",
       "  </tbody>\n",
       "</table>\n",
       "<p>5 rows × 36 columns</p>\n",
       "</div>"
      ],
      "text/plain": [
       "                                             Model  Price  Age_08_04  \\\n",
       "Id                                                                     \n",
       "1    TOYOTA Corolla 2.0 D4D HATCHB TERRA 2/3-Doors  13500         23   \n",
       "2    TOYOTA Corolla 2.0 D4D HATCHB TERRA 2/3-Doors  13750         23   \n",
       "3   ?TOYOTA Corolla 2.0 D4D HATCHB TERRA 2/3-Doors  13950         24   \n",
       "4    TOYOTA Corolla 2.0 D4D HATCHB TERRA 2/3-Doors  14950         26   \n",
       "5      TOYOTA Corolla 2.0 D4D HATCHB SOL 2/3-Doors  13750         30   \n",
       "\n",
       "    Mfg_Month  Mfg_Year     KM Fuel_Type  HP  Met_Color  Automatic  ...  \\\n",
       "Id                                                                  ...   \n",
       "1          10      2002  46986    Diesel  90          1          0  ...   \n",
       "2          10      2002  72937    Diesel  90          1          0  ...   \n",
       "3           9      2002  41711    Diesel  90          1          0  ...   \n",
       "4           7      2002  48000    Diesel  90          0          0  ...   \n",
       "5           3      2002  38500    Diesel  90          0          0  ...   \n",
       "\n",
       "    Central_Lock  Powered_Windows  Power_Steering  Radio  Mistlamps  \\\n",
       "Id                                                                    \n",
       "1              1                1               1      0          0   \n",
       "2              1                0               1      0          0   \n",
       "3              0                0               1      0          0   \n",
       "4              0                0               1      0          0   \n",
       "5              1                1               1      0          1   \n",
       "\n",
       "    Sport_Model  Backseat_Divider  Metallic_Rim  Radio_cassette  Tow_Bar  \n",
       "Id                                                                        \n",
       "1             0                 1             0               0        0  \n",
       "2             0                 1             0               0        0  \n",
       "3             0                 1             0               0        0  \n",
       "4             0                 1             0               0        0  \n",
       "5             0                 1             0               0        0  \n",
       "\n",
       "[5 rows x 36 columns]"
      ]
     },
     "execution_count": 9,
     "metadata": {},
     "output_type": "execute_result"
    }
   ],
   "source": [
    "cars_data.head(5) #head gives us first 5 objects as a defult else we can mention the amount of data we need"
   ]
  },
  {
   "cell_type": "code",
   "execution_count": 10,
   "id": "loose-algebra",
   "metadata": {
    "execution": {
     "iopub.execute_input": "2021-06-25T18:01:05.440348Z",
     "iopub.status.busy": "2021-06-25T18:01:05.439624Z",
     "iopub.status.idle": "2021-06-25T18:01:05.447271Z",
     "shell.execute_reply": "2021-06-25T18:01:05.447759Z",
     "shell.execute_reply.started": "2021-06-25T17:57:20.538609Z"
    },
    "papermill": {
     "duration": 0.039909,
     "end_time": "2021-06-25T18:01:05.447922",
     "exception": false,
     "start_time": "2021-06-25T18:01:05.408013",
     "status": "completed"
    },
    "tags": []
   },
   "outputs": [
    {
     "data": {
      "text/plain": [
       "Model               object\n",
       "Price                int64\n",
       "Age_08_04            int64\n",
       "Mfg_Month            int64\n",
       "Mfg_Year             int64\n",
       "KM                   int64\n",
       "Fuel_Type           object\n",
       "HP                   int64\n",
       "Met_Color            int64\n",
       "Automatic            int64\n",
       "cc                   int64\n",
       "Doors                int64\n",
       "Cylinders            int64\n",
       "Gears                int64\n",
       "Quarterly_Tax        int64\n",
       "Weight               int64\n",
       "Mfr_Guarantee        int64\n",
       "BOVAG_Guarantee      int64\n",
       "Guarantee_Period     int64\n",
       "ABS                  int64\n",
       "Airbag_1             int64\n",
       "Airbag_2             int64\n",
       "Airco                int64\n",
       "Automatic_airco      int64\n",
       "Boardcomputer        int64\n",
       "CD_Player            int64\n",
       "Central_Lock         int64\n",
       "Powered_Windows      int64\n",
       "Power_Steering       int64\n",
       "Radio                int64\n",
       "Mistlamps            int64\n",
       "Sport_Model          int64\n",
       "Backseat_Divider     int64\n",
       "Metallic_Rim         int64\n",
       "Radio_cassette       int64\n",
       "Tow_Bar              int64\n",
       "dtype: object"
      ]
     },
     "execution_count": 10,
     "metadata": {},
     "output_type": "execute_result"
    }
   ],
   "source": [
    "cars_data.dtypes # what are datatypes we have for the objectes"
   ]
  },
  {
   "cell_type": "code",
   "execution_count": 11,
   "id": "chinese-tracker",
   "metadata": {
    "execution": {
     "iopub.execute_input": "2021-06-25T18:01:05.499220Z",
     "iopub.status.busy": "2021-06-25T18:01:05.498603Z",
     "iopub.status.idle": "2021-06-25T18:01:05.526326Z",
     "shell.execute_reply": "2021-06-25T18:01:05.526798Z",
     "shell.execute_reply.started": "2021-06-25T17:57:20.552850Z"
    },
    "papermill": {
     "duration": 0.055302,
     "end_time": "2021-06-25T18:01:05.526976",
     "exception": false,
     "start_time": "2021-06-25T18:01:05.471674",
     "status": "completed"
    },
    "tags": []
   },
   "outputs": [
    {
     "data": {
      "text/html": [
       "<div>\n",
       "<style scoped>\n",
       "    .dataframe tbody tr th:only-of-type {\n",
       "        vertical-align: middle;\n",
       "    }\n",
       "\n",
       "    .dataframe tbody tr th {\n",
       "        vertical-align: top;\n",
       "    }\n",
       "\n",
       "    .dataframe thead th {\n",
       "        text-align: right;\n",
       "    }\n",
       "</style>\n",
       "<table border=\"1\" class=\"dataframe\">\n",
       "  <thead>\n",
       "    <tr style=\"text-align: right;\">\n",
       "      <th></th>\n",
       "      <th>Price</th>\n",
       "      <th>Age_08_04</th>\n",
       "      <th>Mfg_Month</th>\n",
       "      <th>Mfg_Year</th>\n",
       "      <th>KM</th>\n",
       "      <th>HP</th>\n",
       "      <th>Met_Color</th>\n",
       "      <th>Automatic</th>\n",
       "      <th>cc</th>\n",
       "      <th>Doors</th>\n",
       "      <th>...</th>\n",
       "      <th>Central_Lock</th>\n",
       "      <th>Powered_Windows</th>\n",
       "      <th>Power_Steering</th>\n",
       "      <th>Radio</th>\n",
       "      <th>Mistlamps</th>\n",
       "      <th>Sport_Model</th>\n",
       "      <th>Backseat_Divider</th>\n",
       "      <th>Metallic_Rim</th>\n",
       "      <th>Radio_cassette</th>\n",
       "      <th>Tow_Bar</th>\n",
       "    </tr>\n",
       "    <tr>\n",
       "      <th>Id</th>\n",
       "      <th></th>\n",
       "      <th></th>\n",
       "      <th></th>\n",
       "      <th></th>\n",
       "      <th></th>\n",
       "      <th></th>\n",
       "      <th></th>\n",
       "      <th></th>\n",
       "      <th></th>\n",
       "      <th></th>\n",
       "      <th></th>\n",
       "      <th></th>\n",
       "      <th></th>\n",
       "      <th></th>\n",
       "      <th></th>\n",
       "      <th></th>\n",
       "      <th></th>\n",
       "      <th></th>\n",
       "      <th></th>\n",
       "      <th></th>\n",
       "      <th></th>\n",
       "    </tr>\n",
       "  </thead>\n",
       "  <tbody>\n",
       "    <tr>\n",
       "      <th>1</th>\n",
       "      <td>13500</td>\n",
       "      <td>23</td>\n",
       "      <td>10</td>\n",
       "      <td>2002</td>\n",
       "      <td>46986</td>\n",
       "      <td>90</td>\n",
       "      <td>1</td>\n",
       "      <td>0</td>\n",
       "      <td>2000</td>\n",
       "      <td>3</td>\n",
       "      <td>...</td>\n",
       "      <td>1</td>\n",
       "      <td>1</td>\n",
       "      <td>1</td>\n",
       "      <td>0</td>\n",
       "      <td>0</td>\n",
       "      <td>0</td>\n",
       "      <td>1</td>\n",
       "      <td>0</td>\n",
       "      <td>0</td>\n",
       "      <td>0</td>\n",
       "    </tr>\n",
       "    <tr>\n",
       "      <th>2</th>\n",
       "      <td>13750</td>\n",
       "      <td>23</td>\n",
       "      <td>10</td>\n",
       "      <td>2002</td>\n",
       "      <td>72937</td>\n",
       "      <td>90</td>\n",
       "      <td>1</td>\n",
       "      <td>0</td>\n",
       "      <td>2000</td>\n",
       "      <td>3</td>\n",
       "      <td>...</td>\n",
       "      <td>1</td>\n",
       "      <td>0</td>\n",
       "      <td>1</td>\n",
       "      <td>0</td>\n",
       "      <td>0</td>\n",
       "      <td>0</td>\n",
       "      <td>1</td>\n",
       "      <td>0</td>\n",
       "      <td>0</td>\n",
       "      <td>0</td>\n",
       "    </tr>\n",
       "    <tr>\n",
       "      <th>3</th>\n",
       "      <td>13950</td>\n",
       "      <td>24</td>\n",
       "      <td>9</td>\n",
       "      <td>2002</td>\n",
       "      <td>41711</td>\n",
       "      <td>90</td>\n",
       "      <td>1</td>\n",
       "      <td>0</td>\n",
       "      <td>2000</td>\n",
       "      <td>3</td>\n",
       "      <td>...</td>\n",
       "      <td>0</td>\n",
       "      <td>0</td>\n",
       "      <td>1</td>\n",
       "      <td>0</td>\n",
       "      <td>0</td>\n",
       "      <td>0</td>\n",
       "      <td>1</td>\n",
       "      <td>0</td>\n",
       "      <td>0</td>\n",
       "      <td>0</td>\n",
       "    </tr>\n",
       "    <tr>\n",
       "      <th>4</th>\n",
       "      <td>14950</td>\n",
       "      <td>26</td>\n",
       "      <td>7</td>\n",
       "      <td>2002</td>\n",
       "      <td>48000</td>\n",
       "      <td>90</td>\n",
       "      <td>0</td>\n",
       "      <td>0</td>\n",
       "      <td>2000</td>\n",
       "      <td>3</td>\n",
       "      <td>...</td>\n",
       "      <td>0</td>\n",
       "      <td>0</td>\n",
       "      <td>1</td>\n",
       "      <td>0</td>\n",
       "      <td>0</td>\n",
       "      <td>0</td>\n",
       "      <td>1</td>\n",
       "      <td>0</td>\n",
       "      <td>0</td>\n",
       "      <td>0</td>\n",
       "    </tr>\n",
       "    <tr>\n",
       "      <th>5</th>\n",
       "      <td>13750</td>\n",
       "      <td>30</td>\n",
       "      <td>3</td>\n",
       "      <td>2002</td>\n",
       "      <td>38500</td>\n",
       "      <td>90</td>\n",
       "      <td>0</td>\n",
       "      <td>0</td>\n",
       "      <td>2000</td>\n",
       "      <td>3</td>\n",
       "      <td>...</td>\n",
       "      <td>1</td>\n",
       "      <td>1</td>\n",
       "      <td>1</td>\n",
       "      <td>0</td>\n",
       "      <td>1</td>\n",
       "      <td>0</td>\n",
       "      <td>1</td>\n",
       "      <td>0</td>\n",
       "      <td>0</td>\n",
       "      <td>0</td>\n",
       "    </tr>\n",
       "    <tr>\n",
       "      <th>...</th>\n",
       "      <td>...</td>\n",
       "      <td>...</td>\n",
       "      <td>...</td>\n",
       "      <td>...</td>\n",
       "      <td>...</td>\n",
       "      <td>...</td>\n",
       "      <td>...</td>\n",
       "      <td>...</td>\n",
       "      <td>...</td>\n",
       "      <td>...</td>\n",
       "      <td>...</td>\n",
       "      <td>...</td>\n",
       "      <td>...</td>\n",
       "      <td>...</td>\n",
       "      <td>...</td>\n",
       "      <td>...</td>\n",
       "      <td>...</td>\n",
       "      <td>...</td>\n",
       "      <td>...</td>\n",
       "      <td>...</td>\n",
       "      <td>...</td>\n",
       "    </tr>\n",
       "    <tr>\n",
       "      <th>1438</th>\n",
       "      <td>7500</td>\n",
       "      <td>69</td>\n",
       "      <td>12</td>\n",
       "      <td>1998</td>\n",
       "      <td>20544</td>\n",
       "      <td>86</td>\n",
       "      <td>1</td>\n",
       "      <td>0</td>\n",
       "      <td>1300</td>\n",
       "      <td>3</td>\n",
       "      <td>...</td>\n",
       "      <td>1</td>\n",
       "      <td>1</td>\n",
       "      <td>1</td>\n",
       "      <td>0</td>\n",
       "      <td>1</td>\n",
       "      <td>1</td>\n",
       "      <td>1</td>\n",
       "      <td>0</td>\n",
       "      <td>0</td>\n",
       "      <td>0</td>\n",
       "    </tr>\n",
       "    <tr>\n",
       "      <th>1439</th>\n",
       "      <td>10845</td>\n",
       "      <td>72</td>\n",
       "      <td>9</td>\n",
       "      <td>1998</td>\n",
       "      <td>19000</td>\n",
       "      <td>86</td>\n",
       "      <td>0</td>\n",
       "      <td>0</td>\n",
       "      <td>1300</td>\n",
       "      <td>3</td>\n",
       "      <td>...</td>\n",
       "      <td>0</td>\n",
       "      <td>0</td>\n",
       "      <td>1</td>\n",
       "      <td>0</td>\n",
       "      <td>0</td>\n",
       "      <td>1</td>\n",
       "      <td>1</td>\n",
       "      <td>0</td>\n",
       "      <td>0</td>\n",
       "      <td>0</td>\n",
       "    </tr>\n",
       "    <tr>\n",
       "      <th>1440</th>\n",
       "      <td>8500</td>\n",
       "      <td>71</td>\n",
       "      <td>10</td>\n",
       "      <td>1998</td>\n",
       "      <td>17016</td>\n",
       "      <td>86</td>\n",
       "      <td>0</td>\n",
       "      <td>0</td>\n",
       "      <td>1300</td>\n",
       "      <td>3</td>\n",
       "      <td>...</td>\n",
       "      <td>0</td>\n",
       "      <td>0</td>\n",
       "      <td>1</td>\n",
       "      <td>0</td>\n",
       "      <td>0</td>\n",
       "      <td>0</td>\n",
       "      <td>1</td>\n",
       "      <td>0</td>\n",
       "      <td>0</td>\n",
       "      <td>0</td>\n",
       "    </tr>\n",
       "    <tr>\n",
       "      <th>1441</th>\n",
       "      <td>7250</td>\n",
       "      <td>70</td>\n",
       "      <td>11</td>\n",
       "      <td>1998</td>\n",
       "      <td>16916</td>\n",
       "      <td>86</td>\n",
       "      <td>1</td>\n",
       "      <td>0</td>\n",
       "      <td>1300</td>\n",
       "      <td>3</td>\n",
       "      <td>...</td>\n",
       "      <td>0</td>\n",
       "      <td>0</td>\n",
       "      <td>0</td>\n",
       "      <td>0</td>\n",
       "      <td>0</td>\n",
       "      <td>0</td>\n",
       "      <td>1</td>\n",
       "      <td>0</td>\n",
       "      <td>0</td>\n",
       "      <td>0</td>\n",
       "    </tr>\n",
       "    <tr>\n",
       "      <th>1442</th>\n",
       "      <td>6950</td>\n",
       "      <td>76</td>\n",
       "      <td>5</td>\n",
       "      <td>1998</td>\n",
       "      <td>1</td>\n",
       "      <td>110</td>\n",
       "      <td>0</td>\n",
       "      <td>0</td>\n",
       "      <td>1600</td>\n",
       "      <td>5</td>\n",
       "      <td>...</td>\n",
       "      <td>0</td>\n",
       "      <td>0</td>\n",
       "      <td>1</td>\n",
       "      <td>0</td>\n",
       "      <td>0</td>\n",
       "      <td>0</td>\n",
       "      <td>0</td>\n",
       "      <td>0</td>\n",
       "      <td>0</td>\n",
       "      <td>0</td>\n",
       "    </tr>\n",
       "  </tbody>\n",
       "</table>\n",
       "<p>1436 rows × 34 columns</p>\n",
       "</div>"
      ],
      "text/plain": [
       "      Price  Age_08_04  Mfg_Month  Mfg_Year     KM   HP  Met_Color  Automatic  \\\n",
       "Id                                                                              \n",
       "1     13500         23         10      2002  46986   90          1          0   \n",
       "2     13750         23         10      2002  72937   90          1          0   \n",
       "3     13950         24          9      2002  41711   90          1          0   \n",
       "4     14950         26          7      2002  48000   90          0          0   \n",
       "5     13750         30          3      2002  38500   90          0          0   \n",
       "...     ...        ...        ...       ...    ...  ...        ...        ...   \n",
       "1438   7500         69         12      1998  20544   86          1          0   \n",
       "1439  10845         72          9      1998  19000   86          0          0   \n",
       "1440   8500         71         10      1998  17016   86          0          0   \n",
       "1441   7250         70         11      1998  16916   86          1          0   \n",
       "1442   6950         76          5      1998      1  110          0          0   \n",
       "\n",
       "        cc  Doors  ...  Central_Lock  Powered_Windows  Power_Steering  Radio  \\\n",
       "Id                 ...                                                         \n",
       "1     2000      3  ...             1                1               1      0   \n",
       "2     2000      3  ...             1                0               1      0   \n",
       "3     2000      3  ...             0                0               1      0   \n",
       "4     2000      3  ...             0                0               1      0   \n",
       "5     2000      3  ...             1                1               1      0   \n",
       "...    ...    ...  ...           ...              ...             ...    ...   \n",
       "1438  1300      3  ...             1                1               1      0   \n",
       "1439  1300      3  ...             0                0               1      0   \n",
       "1440  1300      3  ...             0                0               1      0   \n",
       "1441  1300      3  ...             0                0               0      0   \n",
       "1442  1600      5  ...             0                0               1      0   \n",
       "\n",
       "      Mistlamps  Sport_Model  Backseat_Divider  Metallic_Rim  Radio_cassette  \\\n",
       "Id                                                                             \n",
       "1             0            0                 1             0               0   \n",
       "2             0            0                 1             0               0   \n",
       "3             0            0                 1             0               0   \n",
       "4             0            0                 1             0               0   \n",
       "5             1            0                 1             0               0   \n",
       "...         ...          ...               ...           ...             ...   \n",
       "1438          1            1                 1             0               0   \n",
       "1439          0            1                 1             0               0   \n",
       "1440          0            0                 1             0               0   \n",
       "1441          0            0                 1             0               0   \n",
       "1442          0            0                 0             0               0   \n",
       "\n",
       "      Tow_Bar  \n",
       "Id             \n",
       "1           0  \n",
       "2           0  \n",
       "3           0  \n",
       "4           0  \n",
       "5           0  \n",
       "...       ...  \n",
       "1438        0  \n",
       "1439        0  \n",
       "1440        0  \n",
       "1441        0  \n",
       "1442        0  \n",
       "\n",
       "[1436 rows x 34 columns]"
      ]
     },
     "execution_count": 11,
     "metadata": {},
     "output_type": "execute_result"
    }
   ],
   "source": [
    "cars_data.select_dtypes(exclude=[object]) #here we are selected only the datatype which is int only "
   ]
  },
  {
   "cell_type": "code",
   "execution_count": 12,
   "id": "detailed-nature",
   "metadata": {
    "execution": {
     "iopub.execute_input": "2021-06-25T18:01:05.579909Z",
     "iopub.status.busy": "2021-06-25T18:01:05.579285Z",
     "iopub.status.idle": "2021-06-25T18:01:05.588026Z",
     "shell.execute_reply": "2021-06-25T18:01:05.588558Z",
     "shell.execute_reply.started": "2021-06-25T17:57:20.585665Z"
    },
    "papermill": {
     "duration": 0.037211,
     "end_time": "2021-06-25T18:01:05.588739",
     "exception": false,
     "start_time": "2021-06-25T18:01:05.551528",
     "status": "completed"
    },
    "tags": []
   },
   "outputs": [
    {
     "data": {
      "text/plain": [
       "Model               0\n",
       "Price               0\n",
       "Age_08_04           0\n",
       "Mfg_Month           0\n",
       "Mfg_Year            0\n",
       "KM                  0\n",
       "Fuel_Type           0\n",
       "HP                  0\n",
       "Met_Color           0\n",
       "Automatic           0\n",
       "cc                  0\n",
       "Doors               0\n",
       "Cylinders           0\n",
       "Gears               0\n",
       "Quarterly_Tax       0\n",
       "Weight              0\n",
       "Mfr_Guarantee       0\n",
       "BOVAG_Guarantee     0\n",
       "Guarantee_Period    0\n",
       "ABS                 0\n",
       "Airbag_1            0\n",
       "Airbag_2            0\n",
       "Airco               0\n",
       "Automatic_airco     0\n",
       "Boardcomputer       0\n",
       "CD_Player           0\n",
       "Central_Lock        0\n",
       "Powered_Windows     0\n",
       "Power_Steering      0\n",
       "Radio               0\n",
       "Mistlamps           0\n",
       "Sport_Model         0\n",
       "Backseat_Divider    0\n",
       "Metallic_Rim        0\n",
       "Radio_cassette      0\n",
       "Tow_Bar             0\n",
       "dtype: int64"
      ]
     },
     "execution_count": 12,
     "metadata": {},
     "output_type": "execute_result"
    }
   ],
   "source": [
    "cars_data.isnull().sum() #Hence we dont have any null vaules we can move "
   ]
  },
  {
   "cell_type": "code",
   "execution_count": 13,
   "id": "successful-chair",
   "metadata": {
    "execution": {
     "iopub.execute_input": "2021-06-25T18:01:05.642346Z",
     "iopub.status.busy": "2021-06-25T18:01:05.641681Z",
     "iopub.status.idle": "2021-06-25T18:01:05.687201Z",
     "shell.execute_reply": "2021-06-25T18:01:05.687867Z",
     "shell.execute_reply.started": "2021-06-25T17:57:20.604385Z"
    },
    "papermill": {
     "duration": 0.074354,
     "end_time": "2021-06-25T18:01:05.688038",
     "exception": false,
     "start_time": "2021-06-25T18:01:05.613684",
     "status": "completed"
    },
    "tags": []
   },
   "outputs": [
    {
     "data": {
      "text/html": [
       "<div>\n",
       "<style scoped>\n",
       "    .dataframe tbody tr th:only-of-type {\n",
       "        vertical-align: middle;\n",
       "    }\n",
       "\n",
       "    .dataframe tbody tr th {\n",
       "        vertical-align: top;\n",
       "    }\n",
       "\n",
       "    .dataframe thead th {\n",
       "        text-align: right;\n",
       "    }\n",
       "</style>\n",
       "<table border=\"1\" class=\"dataframe\">\n",
       "  <thead>\n",
       "    <tr style=\"text-align: right;\">\n",
       "      <th>col_0</th>\n",
       "      <th>count</th>\n",
       "    </tr>\n",
       "    <tr>\n",
       "      <th>Fuel_Type</th>\n",
       "      <th></th>\n",
       "    </tr>\n",
       "  </thead>\n",
       "  <tbody>\n",
       "    <tr>\n",
       "      <th>CNG</th>\n",
       "      <td>17</td>\n",
       "    </tr>\n",
       "    <tr>\n",
       "      <th>Diesel</th>\n",
       "      <td>155</td>\n",
       "    </tr>\n",
       "    <tr>\n",
       "      <th>Petrol</th>\n",
       "      <td>1264</td>\n",
       "    </tr>\n",
       "  </tbody>\n",
       "</table>\n",
       "</div>"
      ],
      "text/plain": [
       "col_0      count\n",
       "Fuel_Type       \n",
       "CNG           17\n",
       "Diesel       155\n",
       "Petrol      1264"
      ]
     },
     "execution_count": 13,
     "metadata": {},
     "output_type": "execute_result"
    }
   ],
   "source": [
    "my_tab=pd.crosstab(index=cars_data['Fuel_Type'],columns=\"count\",dropna=True)\n",
    "my_tab"
   ]
  },
  {
   "cell_type": "markdown",
   "id": "differential-broadcasting",
   "metadata": {
    "papermill": {
     "duration": 0.025046,
     "end_time": "2021-06-25T18:01:05.738654",
     "exception": false,
     "start_time": "2021-06-25T18:01:05.713608",
     "status": "completed"
    },
    "tags": []
   },
   "source": [
    "# Data Visulization of the Data\n",
    "*using scatter plot *"
   ]
  },
  {
   "cell_type": "code",
   "execution_count": 14,
   "id": "driven-sentence",
   "metadata": {
    "execution": {
     "iopub.execute_input": "2021-06-25T18:01:05.792972Z",
     "iopub.status.busy": "2021-06-25T18:01:05.792349Z",
     "iopub.status.idle": "2021-06-25T18:01:06.630800Z",
     "shell.execute_reply": "2021-06-25T18:01:06.629995Z",
     "shell.execute_reply.started": "2021-06-25T17:57:20.667120Z"
    },
    "papermill": {
     "duration": 0.866821,
     "end_time": "2021-06-25T18:01:06.630959",
     "exception": false,
     "start_time": "2021-06-25T18:01:05.764138",
     "status": "completed"
    },
    "tags": []
   },
   "outputs": [],
   "source": [
    "import matplotlib.pyplot as plp\n",
    "import seaborn as sns\n"
   ]
  },
  {
   "cell_type": "markdown",
   "id": "interim-impossible",
   "metadata": {
    "papermill": {
     "duration": 0.025401,
     "end_time": "2021-06-25T18:01:06.682137",
     "exception": false,
     "start_time": "2021-06-25T18:01:06.656736",
     "status": "completed"
    },
    "tags": []
   },
   "source": [
    "# **we now see price vs age**\n",
    "using scattter plot we  can do these\n"
   ]
  },
  {
   "cell_type": "code",
   "execution_count": 15,
   "id": "pretty-honolulu",
   "metadata": {
    "execution": {
     "iopub.execute_input": "2021-06-25T18:01:06.739687Z",
     "iopub.status.busy": "2021-06-25T18:01:06.739027Z",
     "iopub.status.idle": "2021-06-25T18:01:06.742660Z",
     "shell.execute_reply": "2021-06-25T18:01:06.742094Z",
     "shell.execute_reply.started": "2021-06-25T17:57:21.676201Z"
    },
    "papermill": {
     "duration": 0.034832,
     "end_time": "2021-06-25T18:01:06.742815",
     "exception": false,
     "start_time": "2021-06-25T18:01:06.707983",
     "status": "completed"
    },
    "tags": []
   },
   "outputs": [],
   "source": [
    "sns.set(style=\"darkgrid\")"
   ]
  },
  {
   "cell_type": "code",
   "execution_count": 16,
   "id": "necessary-dance",
   "metadata": {
    "execution": {
     "iopub.execute_input": "2021-06-25T18:01:06.809047Z",
     "iopub.status.busy": "2021-06-25T18:01:06.799943Z",
     "iopub.status.idle": "2021-06-25T18:01:07.229622Z",
     "shell.execute_reply": "2021-06-25T18:01:07.230123Z",
     "shell.execute_reply.started": "2021-06-25T17:57:21.687671Z"
    },
    "papermill": {
     "duration": 0.461925,
     "end_time": "2021-06-25T18:01:07.230316",
     "exception": false,
     "start_time": "2021-06-25T18:01:06.768391",
     "status": "completed"
    },
    "tags": []
   },
   "outputs": [
    {
     "data": {
      "text/plain": [
       "<AxesSubplot:xlabel='KM', ylabel='Price'>"
      ]
     },
     "execution_count": 16,
     "metadata": {},
     "output_type": "execute_result"
    },
    {
     "data": {
      "image/png": "[encoded data removed]",
      "text/plain": [
       "<Figure size 432x288 with 1 Axes>"
      ]
     },
     "metadata": {},
     "output_type": "display_data"
    }
   ],
   "source": [
    "sns.regplot(x=cars_data[\"KM\"],y=cars_data[\"Price\"],fit_reg= True)"
   ]
  },
  {
   "cell_type": "code",
   "execution_count": 17,
   "id": "ongoing-barrel",
   "metadata": {
    "execution": {
     "iopub.execute_input": "2021-06-25T18:01:07.294049Z",
     "iopub.status.busy": "2021-06-25T18:01:07.293097Z",
     "iopub.status.idle": "2021-06-25T18:01:07.806530Z",
     "shell.execute_reply": "2021-06-25T18:01:07.805880Z",
     "shell.execute_reply.started": "2021-06-25T17:57:22.175635Z"
    },
    "papermill": {
     "duration": 0.548655,
     "end_time": "2021-06-25T18:01:07.806677",
     "exception": false,
     "start_time": "2021-06-25T18:01:07.258022",
     "status": "completed"
    },
    "tags": []
   },
   "outputs": [
    {
     "data": {
      "text/plain": [
       "<seaborn.axisgrid.FacetGrid at 0x7f2c5bd7abd0>"
      ]
     },
     "execution_count": 17,
     "metadata": {},
     "output_type": "execute_result"
    },
    {
     "data": {
      "image/png": "[encoded data removed]",
      "text/plain": [
       "<Figure size 433.85x360 with 1 Axes>"
      ]
     },
     "metadata": {},
     "output_type": "display_data"
    }
   ],
   "source": [
    "sns.lmplot(x='Age_08_04',y='Price',data=cars_data,fit_reg=False,hue='Fuel_Type',legend=True)"
   ]
  },
  {
   "cell_type": "code",
   "execution_count": 18,
   "id": "overall-kenya",
   "metadata": {
    "execution": {
     "iopub.execute_input": "2021-06-25T18:01:07.869707Z",
     "iopub.status.busy": "2021-06-25T18:01:07.868777Z",
     "iopub.status.idle": "2021-06-25T18:01:08.115268Z",
     "shell.execute_reply": "2021-06-25T18:01:08.114696Z",
     "shell.execute_reply.started": "2021-06-25T17:57:22.785359Z"
    },
    "papermill": {
     "duration": 0.27996,
     "end_time": "2021-06-25T18:01:08.115445",
     "exception": false,
     "start_time": "2021-06-25T18:01:07.835485",
     "status": "completed"
    },
    "tags": []
   },
   "outputs": [
    {
     "name": "stderr",
     "output_type": "stream",
     "text": [
      "/opt/conda/lib/python3.7/site-packages/seaborn/distributions.py:2557: FutureWarning: `distplot` is a deprecated function and will be removed in a future version. Please adapt your code to use either `displot` (a figure-level function with similar flexibility) or `histplot` (an axes-level function for histograms).\n",
      "  warnings.warn(msg, FutureWarning)\n"
     ]
    },
    {
     "data": {
      "text/plain": [
       "<AxesSubplot:xlabel='Age_08_04', ylabel='Density'>"
      ]
     },
     "execution_count": 18,
     "metadata": {},
     "output_type": "execute_result"
    },
    {
     "data": {
      "image/png": "[encoded data removed]",
      "text/plain": [
       "<Figure size 432x288 with 1 Axes>"
      ]
     },
     "metadata": {},
     "output_type": "display_data"
    }
   ],
   "source": [
    "sns.distplot(cars_data[\"Age_08_04\"])"
   ]
  },
  {
   "cell_type": "code",
   "execution_count": 19,
   "id": "hawaiian-brief",
   "metadata": {
    "execution": {
     "iopub.execute_input": "2021-06-25T18:01:08.188733Z",
     "iopub.status.busy": "2021-06-25T18:01:08.187101Z",
     "iopub.status.idle": "2021-06-25T18:01:08.356495Z",
     "shell.execute_reply": "2021-06-25T18:01:08.356984Z",
     "shell.execute_reply.started": "2021-06-25T17:57:23.063067Z"
    },
    "papermill": {
     "duration": 0.210109,
     "end_time": "2021-06-25T18:01:08.357193",
     "exception": false,
     "start_time": "2021-06-25T18:01:08.147084",
     "status": "completed"
    },
    "tags": []
   },
   "outputs": [
    {
     "data": {
      "text/plain": [
       "<AxesSubplot:xlabel='Fuel_Type', ylabel='count'>"
      ]
     },
     "execution_count": 19,
     "metadata": {},
     "output_type": "execute_result"
    },
    {
     "data": {
      "image/png": "[encoded data removed]",
      "text/plain": [
       "<Figure size 432x288 with 1 Axes>"
      ]
     },
     "metadata": {},
     "output_type": "display_data"
    }
   ],
   "source": [
    "sns.countplot(x=\"Fuel_Type\",data=cars_data,hue=\"Automatic\")"
   ]
  },
  {
   "cell_type": "code",
   "execution_count": 20,
   "id": "activated-celebrity",
   "metadata": {
    "execution": {
     "iopub.execute_input": "2021-06-25T18:01:08.443408Z",
     "iopub.status.busy": "2021-06-25T18:01:08.426784Z",
     "iopub.status.idle": "2021-06-25T18:01:08.540713Z",
     "shell.execute_reply": "2021-06-25T18:01:08.540061Z",
     "shell.execute_reply.started": "2021-06-25T17:57:23.271197Z"
    },
    "papermill": {
     "duration": 0.151132,
     "end_time": "2021-06-25T18:01:08.540863",
     "exception": false,
     "start_time": "2021-06-25T18:01:08.389731",
     "status": "completed"
    },
    "tags": []
   },
   "outputs": [
    {
     "data": {
      "text/plain": [
       "<AxesSubplot:ylabel='Price'>"
      ]
     },
     "execution_count": 20,
     "metadata": {},
     "output_type": "execute_result"
    },
    {
     "data": {
      "image/png": "[encoded data removed]",
      "text/plain": [
       "<Figure size 432x288 with 1 Axes>"
      ]
     },
     "metadata": {},
     "output_type": "display_data"
    }
   ],
   "source": [
    "sns.boxplot(y=cars_data[\"Price\"])"
   ]
  },
  {
   "cell_type": "code",
   "execution_count": 21,
   "id": "noted-clause",
   "metadata": {
    "execution": {
     "iopub.execute_input": "2021-06-25T18:01:08.615817Z",
     "iopub.status.busy": "2021-06-25T18:01:08.614797Z",
     "iopub.status.idle": "2021-06-25T18:01:08.872641Z",
     "shell.execute_reply": "2021-06-25T18:01:08.871872Z",
     "shell.execute_reply.started": "2021-06-25T17:57:23.435005Z"
    },
    "papermill": {
     "duration": 0.299389,
     "end_time": "2021-06-25T18:01:08.872807",
     "exception": false,
     "start_time": "2021-06-25T18:01:08.573418",
     "status": "completed"
    },
    "tags": []
   },
   "outputs": [
    {
     "data": {
      "text/plain": [
       "<AxesSubplot:xlabel='Fuel_Type', ylabel='Price'>"
      ]
     },
     "execution_count": 21,
     "metadata": {},
     "output_type": "execute_result"
    },
    {
     "data": {
      "image/png": "[encoded data removed]",
      "text/plain": [
       "<Figure size 432x288 with 1 Axes>"
      ]
     },
     "metadata": {},
     "output_type": "display_data"
    }
   ],
   "source": [
    "sns.boxplot(x=cars_data[\"Fuel_Type\"],y=\"Price\",hue=\"Automatic\",data=cars_data)"
   ]
  },
  {
   "cell_type": "code",
   "execution_count": 22,
   "id": "impaired-currency",
   "metadata": {
    "execution": {
     "iopub.execute_input": "2021-06-25T18:01:08.946713Z",
     "iopub.status.busy": "2021-06-25T18:01:08.946008Z",
     "iopub.status.idle": "2021-06-25T18:01:08.949260Z",
     "shell.execute_reply": "2021-06-25T18:01:08.948638Z"
    },
    "papermill": {
     "duration": 0.042004,
     "end_time": "2021-06-25T18:01:08.949410",
     "exception": false,
     "start_time": "2021-06-25T18:01:08.907406",
     "status": "completed"
    },
    "tags": []
   },
   "outputs": [],
   "source": [
    "#sns.pairplot(cars_data,kind=\"scatter\",hue=\"Fuel_Type\")"
   ]
  },
  {
   "cell_type": "code",
   "execution_count": null,
   "id": "recorded-display",
   "metadata": {
    "papermill": {
     "duration": 0.033908,
     "end_time": "2021-06-25T18:01:09.017527",
     "exception": false,
     "start_time": "2021-06-25T18:01:08.983619",
     "status": "completed"
    },
    "tags": []
   },
   "outputs": [],
   "source": []
  }
 ],
 "metadata": {
  "kernelspec": {
   "display_name": "Python 3",
   "language": "python",
   "name": "python3"
  },
  "language_info": {
   "codemirror_mode": {
    "name": "ipython",
    "version": 3
   },
   "file_extension": ".py",
   "mimetype": "text/x-python",
   "name": "python",
   "nbconvert_exporter": "python",
   "pygments_lexer": "ipython3",
   "version": "3.7.10"
  },
  "papermill": {
   "default_parameters": {},
   "duration": 13.643141,
   "end_time": "2021-06-25T18:01:09.963675",
   "environment_variables": {},
   "exception": null,
   "input_path": "__notebook__.ipynb",
   "output_path": "__notebook__.ipynb",
   "parameters": {},
   "start_time": "2021-06-25T18:00:56.320534",
   "version": "2.3.3"
  }
 },
 "nbformat": 4,
 "nbformat_minor": 5
}
